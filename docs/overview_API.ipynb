{
 "cells": [
  {
   "cell_type": "markdown",
   "metadata": {},
   "source": [
    "# Quick Overview"
   ]
  },
  {
   "cell_type": "markdown",
   "metadata": {
    "tags": []
   },
   "source": [
    "This notebook provides a quick example of how to start using the `spectral_recovery` package. More detailed examples will soon become available in the [User Guide](https://people-er.github.io/Spectral-Recovery/about/).\n",
    "\n",
    "If you want to try out the tool on your own, you can use the [test data on GitHub](https://github.com/PEOPLE-ER/Spectral-Recovery/tree/main/docs/test_data/test_data.zip)."
   ]
  },
  {
   "cell_type": "markdown",
   "metadata": {},
   "source": [
    "Once the tool is installed with `pip install spectral-recovery`, you can import the package"
   ]
  },
  {
   "cell_type": "code",
   "execution_count": 1,
   "metadata": {
    "tags": []
   },
   "outputs": [],
   "source": [
    "import spectral_recovery as sr"
   ]
  },
  {
   "cell_type": "markdown",
   "metadata": {
    "tags": []
   },
   "source": [
    "## Defining a RestorationArea\n",
    "\n",
    "To begin, we must create a `RestorationArea` object. This object holds and coordinates all the information necessary to compute recovery metrics for an area that has experienced disturbance and/or restoration. The following section briefly describes the input parameters but for more in-depth information, please see the [Spectral Recovery Tool](https://people-er.github.io/Spectral-Recovery/about/#2-the-spectral-recovery-tool) section in the User Guide."
   ]
  },
  {
   "cell_type": "markdown",
   "metadata": {
    "tags": []
   },
   "source": [
    "### Input Parameters"
   ]
  },
  {
   "cell_type": "markdown",
   "metadata": {
    "tags": []
   },
   "source": [
    "| Name  | Type  | Description  |\n",
    "|---|:---:|---|\n",
    "| **restoration_polygon**  | geopandas.GeoDataFrame  | The spatial deliniation of the restoration event, i.e where disturance/restoration has occured.  |   \n",
    "|  **restoration_start** | datetime | The year the disturbance began.  |   \n",
    "| **disturbance_start**  | datetime  |  The year the restoration event began. |  \n",
    "|  **reference_polygon** | geopandas.GeoDataFrame  | The spatial deliniation of the reference systems.  |   \n",
    "|  **reference_years** | list of datetime  | The year or range of years to use for determining a recovery target.  |   \n",
    "|  **composite_stack** | xarray.DataArray  | The timeseries of annual composites for computing recovery metrics.   |  "
   ]
  },
  {
   "cell_type": "markdown",
   "metadata": {
    "tags": []
   },
   "source": [
    "### Prepping Inputs"
   ]
  },
  {
   "cell_type": "markdown",
   "metadata": {},
   "source": [
    "#### Annual Composites"
   ]
  },
  {
   "cell_type": "markdown",
   "metadata": {},
   "source": [
    "Next, read in your set of annual composites. To do this use the `read_and_stack_tifs` method. The method requires that you either provide a path to a directory containing all of your annual composites, or you provide a list of paths to each individual composite. Each composite:\n",
    "\n",
    "1. _must_ be named after the year of which they are a composite, e.g for a composite of 2014 the file must be named `2014.tif`\n",
    "2. _must_ have the bands named by their common names/acronyms\n",
    "\n",
    "Each composite can contain multiple bands but each band must be present in all composites. You must also provide the Platform(s) from which the composite is derived.\n",
    "\n",
    "| Parameter   | Options   |\n",
    "|:---:|---|\n",
    "|  Platform   | 'landsat_oli', 'landsat_etm', 'landsat_tm','sentinel_2' |"
   ]
  },
  {
   "cell_type": "markdown",
   "metadata": {},
   "source": [
    "The set of annual composites that we'll be using in this notebook was created using the [GEE BAP tool](https://github.com/saveriofrancini/bap)."
   ]
  },
  {
   "cell_type": "code",
   "execution_count": null,
   "metadata": {
    "tags": []
   },
   "outputs": [],
   "source": [
    "composite_stack = sr.read_and_stack_tifs(\n",
    "    \"test_data/annual_composites/landsat\",\n",
    "    platform=[\"landsat_tm\", \"landsat_etm\", \"landsat_oli\"],\n",
    "    band_names={1: \"blue\", 2: \"green\", 3: \"red\", 4: \"nir\", 5: \"swir1\", 6: \"swir2\"},\n",
    "    array_type=\"numpy\"\n",
    ")"
   ]
  },
  {
   "cell_type": "markdown",
   "metadata": {},
   "source": [
    "Compute your indices using the `compute_indices` function. The function takes 2 parameters 1) your image stack, 2) choice of indices.\n",
    "\n",
    "| Parameter   | Options   |\n",
    "|:---:|---|\n",
    "|  Indices   | 'NDVI', 'NBR','GNDVI', 'EVI', 'AVI', 'SAVI','NDWI','TCG','TCW','TCB','SR','NDMI','GCI','NDII'  |\n"
   ]
  },
  {
   "cell_type": "code",
   "execution_count": null,
   "metadata": {
    "tags": []
   },
   "outputs": [],
   "source": [
    "indices_stack = sr.compute_indices(\n",
    "    image_stack=composite_stack, \n",
    "    indices=[\"NBR\", \"NDMI\", \"GNDVI\"]\n",
    ")"
   ]
  },
  {
   "cell_type": "markdown",
   "metadata": {
    "tags": []
   },
   "source": [
    "#### Polygons"
   ]
  },
  {
   "cell_type": "markdown",
   "metadata": {},
   "source": [
    "Read you restoration polygon using GeoPandas"
   ]
  },
  {
   "cell_type": "code",
   "execution_count": null,
   "metadata": {
    "tags": []
   },
   "outputs": [],
   "source": [
    "import geopandas as gpd\n",
    "\n",
    "restoration_poly = gpd.read_file(\"test_data/wildfire_516.gpkg\")\n",
    "restoration_poly.plot(figsize=(2, 2)).set_title(\"Test restoration polygon\")"
   ]
  },
  {
   "cell_type": "markdown",
   "metadata": {},
   "source": [
    "#### Dates/Years"
   ]
  },
  {
   "cell_type": "markdown",
   "metadata": {
    "tags": []
   },
   "source": [
    "Finally, define the years we need for a restoration area: disturbance event start year, restoration event start year, and reference year(s)."
   ]
  },
  {
   "cell_type": "code",
   "execution_count": null,
   "metadata": {
    "tags": []
   },
   "outputs": [],
   "source": [
    "disturbance_start = \"2005\" # the start of the disturbance window\n",
    "restoration_start =\"2006\" # the start of the restoration window\n",
    "reference_years = [\"2003\", \"2004\"] # derive recovery target from the range of these years"
   ]
  },
  {
   "cell_type": "markdown",
   "metadata": {
    "tags": []
   },
   "source": [
    "### Creating a RestorationArea"
   ]
  },
  {
   "cell_type": "markdown",
   "metadata": {},
   "source": [
    "Now that we've prepped our input, we can create a RestorationArea and are one step closer to computing recovery metrics."
   ]
  },
  {
   "cell_type": "code",
   "execution_count": null,
   "metadata": {
    "tags": []
   },
   "outputs": [],
   "source": [
    "ra = sr.RestorationArea(\n",
    "    restoration_polygon=restoration_poly,\n",
    "    disturbance_start=disturbance_start, \n",
    "    restoration_start=restoration_start,\n",
    "    reference_years=reference_years,\n",
    "    composite_stack=indices_stack,\n",
    ")\n",
    "# ta-da! "
   ]
  },
  {
   "cell_type": "markdown",
   "metadata": {
    "tags": []
   },
   "source": [
    "You can visualize the spectral trajectory of your RestorationArea using the `plot_spectral_trajectory` function. If you want to write the plot to file, pass your desired path to the function."
   ]
  },
  {
   "cell_type": "code",
   "execution_count": null,
   "metadata": {
    "tags": []
   },
   "outputs": [],
   "source": [
    "ra.plot_spectral_trajectory()"
   ]
  },
  {
   "cell_type": "markdown",
   "metadata": {
    "tags": []
   },
   "source": [
    "## Computing Recovery Metrics"
   ]
  },
  {
   "cell_type": "code",
   "execution_count": null,
   "metadata": {
    "tags": []
   },
   "outputs": [],
   "source": [
    "import matplotlib.pyplot as plt\n",
    "\n",
    "def plot_metrics(metric):\n",
    "    \"\"\" Plot the three bands in a single figure. \"\"\"\n",
    "    fig, axes = plt.subplots(ncols=3, sharex=True, sharey=True, figsize=[15, 4])\n",
    "    for i in range(3):\n",
    "        metric[0,i,:,:].plot(ax=axes[i])\n",
    "        axes[i].set_title(f\"{str(metric.metric.values[0])}: {metric['band'].values[i]}\")\n",
    "        axes[i].set_xlabel(\"X coordinate\")\n",
    "        if i == 0:\n",
    "            axes[i].set_ylabel(\"Y coordinate\")\n",
    "        else:\n",
    "            axes[i].set_ylabel(\"\")\n",
    "        plt.tight_layout()\n"
   ]
  },
  {
   "cell_type": "markdown",
   "metadata": {},
   "source": [
    "Now that we have our RestorationArea defined, computing recovery metrics is as simple as calling the desired metric method!"
   ]
  },
  {
   "cell_type": "markdown",
   "metadata": {},
   "source": [
    "### Y2R"
   ]
  },
  {
   "cell_type": "code",
   "execution_count": null,
   "metadata": {
    "tags": []
   },
   "outputs": [],
   "source": [
    "y2r = ra.y2r()\n",
    "plot_metrics(y2r)"
   ]
  },
  {
   "cell_type": "markdown",
   "metadata": {
    "tags": []
   },
   "source": [
    "### R80P"
   ]
  },
  {
   "cell_type": "code",
   "execution_count": null,
   "metadata": {
    "tags": []
   },
   "outputs": [],
   "source": [
    "r80p = ra.r80p(timestep=4)\n",
    "plot_metrics(r80p)"
   ]
  },
  {
   "cell_type": "markdown",
   "metadata": {},
   "source": [
    "### YrYr"
   ]
  },
  {
   "cell_type": "code",
   "execution_count": null,
   "metadata": {
    "tags": []
   },
   "outputs": [],
   "source": [
    "yryr = ra.yryr(timestep=4)\n",
    "plot_metrics(yryr)"
   ]
  },
  {
   "cell_type": "markdown",
   "metadata": {
    "tags": []
   },
   "source": [
    "### dNBR"
   ]
  },
  {
   "cell_type": "code",
   "execution_count": null,
   "metadata": {
    "tags": []
   },
   "outputs": [],
   "source": [
    "dNBR = ra.dnbr(timestep=4)\n",
    "plot_metrics(dNBR)"
   ]
  },
  {
   "cell_type": "markdown",
   "metadata": {},
   "source": [
    "###  Writing Results\n",
    "\n",
    "To write your metric results to raster files, the simpliest way is to use `rioxarray`'s `to_raster` function:\n"
   ]
  },
  {
   "cell_type": "code",
   "execution_count": null,
   "metadata": {},
   "outputs": [],
   "source": [
    "y2r[0,:,:,:].rio.to_raster(\"./y2r.tif\")"
   ]
  },
  {
   "cell_type": "markdown",
   "metadata": {},
   "source": []
  }
 ],
 "metadata": {
  "interpreter": {
   "hash": "dcabc692b03f7e019ab87f9b1754935a4d34e07051f12acb5236747821ea6542"
  },
  "kernelspec": {
   "display_name": "Python 3 (ipykernel)",
   "language": "python",
   "name": "python3"
  },
  "language_info": {
   "codemirror_mode": {
    "name": "ipython",
    "version": 3
   },
   "file_extension": ".py",
   "mimetype": "text/x-python",
   "name": "python",
   "nbconvert_exporter": "python",
   "pygments_lexer": "ipython3",
   "version": "3.11.2"
  }
 },
 "nbformat": 4,
 "nbformat_minor": 4
}
