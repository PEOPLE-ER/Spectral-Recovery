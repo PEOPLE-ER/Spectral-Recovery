{
 "cells": [
  {
   "cell_type": "markdown",
   "id": "8fa3dea3-ba1e-4ac7-be80-855a1986e8c3",
   "metadata": {},
   "source": [
    "# Using the Command-line Interface (CLI)"
   ]
  },
  {
   "cell_type": "markdown",
   "id": "6cdf35b8",
   "metadata": {},
   "source": [
    "After you've installed spectral-recovery,the tool can accessed from the command-line using the `specrec` command. Try out the help command to see the different options and arguments!"
   ]
  },
  {
   "cell_type": "code",
   "execution_count": 2,
   "id": "26587b0c",
   "metadata": {
    "tags": []
   },
   "outputs": [
    {
     "name": "stdout",
     "output_type": "stream",
     "text": [
      "Usage: specrec [OPTIONS] TIF_DIR OUT REST_POLY COMMAND1 [ARGS]... [COMMAND2\n",
      "               [ARGS]...]...\n",
      "\n",
      "  Compute recovery metrics.\n",
      "\n",
      "  This script will compute recovery metrics over the area of REST_POLY using\n",
      "  spectral data from annual composites in TIF_DIR. Recovery targets will be\n",
      "  derived over REF_POLYGON between reference start and end year.\n",
      "\n",
      "  TIF_DIR        Path to a directory containing annual composites.\n",
      "  OUT            Path to directory to write output rasters.\n",
      "  REST_POLY      Path to the restoration area polygon.\n",
      "  REFERNCE       (optional) Path to reference polygon(s).\n",
      "\n",
      "Options:\n",
      "  -ref, --reference PATH  Path to reference polygon(s) with dates.\n",
      "  -i, --indices TEXT      The indices on which to compute recovery metrics.\n",
      "                          [required]\n",
      "  --mask PATH             Path to a data mask for annual composites.\n",
      "  --help                  Show this message and exit.\n",
      "\n",
      "Commands:\n",
      "  R80P\n",
      "  RRI\n",
      "  Y2R\n",
      "  YrYr\n",
      "  dNBR\n"
     ]
    }
   ],
   "source": [
    "\n",
    "! specrec --help\n"
   ]
  },
  {
   "cell_type": "markdown",
   "id": "a8f5963b",
   "metadata": {},
   "source": [
    "\n",
    "Below is an example of how you would call the `specrec` tool to get the Y2R and the R80P recovery metrics for your restoration area:"
   ]
  },
  {
   "cell_type": "code",
   "execution_count": 4,
   "id": "df9e639a",
   "metadata": {
    "tags": []
   },
   "outputs": [
    {
     "name": "stdout",
     "output_type": "stream",
     "text": [
      "\n",
      "Reading in annual composites from 'test_data/annual_composites'\n",
      "Traceback (most recent call last):\n",
      "  File \"/Users/sarahwork/repos/Vegetation-Recovery-Assessment/.venv3/bin/specrec\", line 8, in <module>\n",
      "    sys.exit(cli())\n",
      "  File \"/Users/sarahwork/repos/Vegetation-Recovery-Assessment/.venv3/lib/python3.10/site-packages/click/core.py\", line 1157, in __call__\n",
      "    return self.main(*args, **kwargs)\n",
      "  File \"/Users/sarahwork/repos/Vegetation-Recovery-Assessment/.venv3/lib/python3.10/site-packages/click/core.py\", line 1078, in main\n",
      "    rv = self.invoke(ctx)\n",
      "  File \"/Users/sarahwork/repos/Vegetation-Recovery-Assessment/.venv3/lib/python3.10/site-packages/click/core.py\", line 1697, in invoke\n",
      "    super().invoke(ctx)\n",
      "  File \"/Users/sarahwork/repos/Vegetation-Recovery-Assessment/.venv3/lib/python3.10/site-packages/click/core.py\", line 1434, in invoke\n",
      "    return ctx.invoke(self.callback, **ctx.params)\n",
      "  File \"/Users/sarahwork/repos/Vegetation-Recovery-Assessment/.venv3/lib/python3.10/site-packages/click/core.py\", line 783, in invoke\n",
      "    return __callback(*args, **kwargs)\n",
      "  File \"/Users/sarahwork/repos/Vegetation-Recovery-Assessment/.venv3/lib/python3.10/site-packages/click/decorators.py\", line 33, in new_func\n",
      "    return f(get_current_context(), *args, **kwargs)\n",
      "  File \"/Users/sarahwork/repos/Vegetation-Recovery-Assessment/src/scripts/cli.py\", line 82, in cli\n",
      "    timeseries = read_timeseries(\n",
      "TypeError: read_timeseries() missing 1 required positional argument: 'platform'\n"
     ]
    }
   ],
   "source": [
    "! specrec -i NBR -i GNDVI test_data/annual_composites/ test_data/outputs test_data/wildfire_516.gpkg Y2R"
   ]
  },
  {
   "cell_type": "markdown",
   "id": "356aec14",
   "metadata": {},
   "source": [
    "The command reads in the annual composites an--like the [Quick Overview](https://people-er.github.io/Spectral-Recovery/overview_API/)--defines a restoration polygon whose restoration event began in 2015, and a which has a historic recovery target derived from the years 2012-2013. The `-i` flags at the start of the command indicate that the recovery metrics should be computed using the NBR and NDVI indices, while the subcommands at the end (`Y2R`, `R80P`, etc.) are the choices of recovery metrics to compute for each index. \n",
    "\n",
    "Results are written to the output directory (e.g 'test_data/outputs'), with one multi-band tif written for each metric computed. Filenames are the restpective metric, e.g 'Y2R.tif'.\n"
   ]
  }
 ],
 "metadata": {
  "kernelspec": {
   "display_name": "Python 3 (ipykernel)",
   "language": "python",
   "name": "python3"
  },
  "language_info": {
   "codemirror_mode": {
    "name": "ipython",
    "version": 3
   },
   "file_extension": ".py",
   "mimetype": "text/x-python",
   "name": "python",
   "nbconvert_exporter": "python",
   "pygments_lexer": "ipython3",
   "version": "3.10.13"
  }
 },
 "nbformat": 4,
 "nbformat_minor": 5
}
