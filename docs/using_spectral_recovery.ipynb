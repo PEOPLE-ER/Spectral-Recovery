{
 "cells": [
  {
   "cell_type": "markdown",
   "metadata": {},
   "source": [
    "# Using the Spectral Recovery Tool\n",
    "\n",
    "This notebook will provide examples of using the `spectral_recovery` tool. **WIP during initial development of the tool.**"
   ]
  },
  {
   "cell_type": "code",
   "execution_count": null,
   "metadata": {},
   "outputs": [
    {
     "ename": "",
     "evalue": "",
     "output_type": "error",
     "traceback": [
      "\u001b[1;31mRunning cells with 'Python 3.11.4 ('.venv': venv)' requires ipykernel package.\n",
      "Run the following command to install 'ipykernel' into the Python environment. \n",
      "Command: '/Users/sarahwork/hatfield/repos/Vegetation-Recovery-Assessment/.venv/bin/python -m pip install ipykernel -U --force-reinstall'"
     ]
    }
   ],
   "source": [
    "\n",
    "! pip install -i https://test.pypi.org/simple/ spectral-recovery==0.1"
   ]
  },
  {
   "cell_type": "markdown",
   "metadata": {},
   "source": [
    "## Using `specrec` on CLI \n",
    "\n",
    " The `spectral_recovery` tool is packaged with a Command-Line Interface (CLI) entry-point, called by using the `specrec` command. The command accepts 12 parameters which can be explored using the `--help` flag. "
   ]
  },
  {
   "cell_type": "code",
   "execution_count": 1,
   "metadata": {},
   "outputs": [
    {
     "data": {
      "text/plain": [
       "'/Users/sarahwork/hatfield/repos/Vegetation-Recovery-Assessment/docs/notebooks'"
      ]
     },
     "execution_count": 1,
     "metadata": {},
     "output_type": "execute_result"
    }
   ],
   "source": [
    "import os\n",
    "os.getcwd() "
   ]
  },
  {
   "cell_type": "code",
   "execution_count": 2,
   "metadata": {},
   "outputs": [
    {
     "name": "stdout",
     "output_type": "stream",
     "text": [
      "Usage: specrec [OPTIONS] TIF_DIR\n",
      "\n",
      "  CLI-tool for computing recovery metrics over a desired restoration area.\n",
      "\n",
      "Options:\n",
      "  --years [%Y]...                 Start and end year of tifs in 'TIF_DIR'\n",
      "                                  [required]\n",
      "  --per-band                      If tifs are stored per-band (e.g a tif for\n",
      "                                  Blue band, containing years 2010-2022)\n",
      "  --per-year                      If tifs are stored per-year (e.g a tif for\n",
      "                                  2010, containing bands Blue, NIR, and SWIR)\n",
      "  -rest, --rest-poly PATH         Path to restoration area polygon  [required]\n",
      "  --rest-year [%Y]                Year of restoration event\n",
      "  -ref, --ref-poly PATH           Path to reference polygon(s)\n",
      "  --ref-years [%Y]...             Start and end year from which to derive\n",
      "                                  reference recovery target. If only using one\n",
      "                                  year, set start and end year to same year.\n",
      "                                  [required]\n",
      "  -i, --indices [NDVI|NBR|GNDVI|EVI|AVI|SAVI|NDWI|TCG|TCW|TCB|SR|NDMI|GCI|NDII]\n",
      "                                  The indices on which to compute recovery\n",
      "                                  metrics.\n",
      "  -m, --metrics [percent_recovered|Y2R|RI|dNBR|P80R|YrYr]\n",
      "                                  The recovery metrics to compute.  [required]\n",
      "  --mask PATH                     A data mask.\n",
      "  --out PATH                      Directory to write output rasters.\n",
      "                                  [required]\n",
      "  --help                          Show this message and exit.\n"
     ]
    }
   ],
   "source": [
    "! specrec --help"
   ]
  },
  {
   "cell_type": "markdown",
   "metadata": {},
   "source": [
    "\n",
    "```{bash}\n",
    "specrec path_to_your_tifs/ --years 2010 2022 --per-year --rest-poly path_to_your_restoration/polygon.gpkg --rest-year 2015 --ref-years 2013 2014 -i NBR -i NDVI -i GCI -m Y2R -m RI --out output_dir/\n",
    "```"
   ]
  },
  {
   "cell_type": "markdown",
   "metadata": {},
   "source": [
    "## Using `spectral_recovery` in Modules\n",
    "\n",
    "The `spectral_recovery` tool can also be imported into new or existing workflows."
   ]
  },
  {
   "cell_type": "code",
   "execution_count": 2,
   "metadata": {},
   "outputs": [
    {
     "name": "stdout",
     "output_type": "stream",
     "text": [
      "\u001b[22;0t\u001b]0;IPython: docs/notebooks\u00073.9.17 (main, Jun 20 2023, 17:03:39) \n",
      "[Clang 13.0.0 (clang-1300.0.29.30)]\n"
     ]
    }
   ],
   "source": [
    "! ipython3 -c 'import sys; print(sys.version)'"
   ]
  },
  {
   "cell_type": "code",
   "execution_count": 3,
   "metadata": {},
   "outputs": [
    {
     "name": "stdout",
     "output_type": "stream",
     "text": [
      "3.11.4 | packaged by conda-forge | (main, Jun 10 2023, 18:10:28) [Clang 15.0.7 ]\n"
     ]
    }
   ],
   "source": [
    "! python3 -c 'import sys; print(sys.version)'"
   ]
  },
  {
   "cell_type": "code",
   "execution_count": 3,
   "metadata": {},
   "outputs": [
    {
     "ename": "ModuleNotFoundError",
     "evalue": "No module named 'spectral_recovery'",
     "output_type": "error",
     "traceback": [
      "\u001b[0;31m---------------------------------------------------------------------------\u001b[0m",
      "\u001b[0;31mModuleNotFoundError\u001b[0m                       Traceback (most recent call last)",
      "Cell \u001b[0;32mIn[3], line 2\u001b[0m\n\u001b[1;32m      1\u001b[0m \u001b[38;5;66;03m# import relevant functions from package\u001b[39;00m\n\u001b[0;32m----> 2\u001b[0m \u001b[38;5;28;01mfrom\u001b[39;00m \u001b[38;5;21;01mspectral_recovery\u001b[39;00m\u001b[38;5;21;01m.\u001b[39;00m\u001b[38;5;21;01mrestoration\u001b[39;00m \u001b[38;5;28;01mimport\u001b[39;00m RestorationArea\n\u001b[1;32m      3\u001b[0m \u001b[38;5;28;01mfrom\u001b[39;00m \u001b[38;5;21;01mspectral_recovery\u001b[39;00m\u001b[38;5;21;01m.\u001b[39;00m\u001b[38;5;21;01menums\u001b[39;00m \u001b[38;5;28;01mimport\u001b[39;00m Index, Metric, BandCommon\n\u001b[1;32m      4\u001b[0m \u001b[38;5;28;01mfrom\u001b[39;00m \u001b[38;5;21;01mspectral_recovery\u001b[39;00m\u001b[38;5;21;01m.\u001b[39;00m\u001b[38;5;21;01mio\u001b[39;00m \u001b[38;5;28;01mimport\u001b[39;00m raster\n",
      "\u001b[0;31mModuleNotFoundError\u001b[0m: No module named 'spectral_recovery'"
     ]
    }
   ],
   "source": [
    "# import relevant functions from package\n",
    "from spectral_recovery.restoration import RestorationArea\n",
    "from spectral_recovery.enums import Index, Metric, BandCommon\n",
    "from spectral_recovery.io import raster"
   ]
  },
  {
   "cell_type": "code",
   "execution_count": 7,
   "metadata": {},
   "outputs": [
    {
     "name": "stdout",
     "output_type": "stream",
     "text": [
      "Found existing installation: spectral-recovery 0.1\n",
      "Uninstalling spectral-recovery-0.1:\n",
      "  Would remove:\n",
      "    /Users/sarahwork/miniconda3/envs/people/bin/specrec\n",
      "    /Users/sarahwork/miniconda3/envs/people/lib/python3.11/site-packages/scripts/*\n",
      "    /Users/sarahwork/miniconda3/envs/people/lib/python3.11/site-packages/spectral_recovery-0.1.dist-info/*\n",
      "    /Users/sarahwork/miniconda3/envs/people/lib/python3.11/site-packages/spectral_recovery/*\n",
      "  Would not remove (might be manually added):\n",
      "    /Users/sarahwork/miniconda3/envs/people/lib/python3.11/site-packages/scripts/check_deprecated.py\n",
      "    /Users/sarahwork/miniconda3/envs/people/lib/python3.11/site-packages/scripts/check_urls.py\n",
      "Proceed (Y/n)? "
     ]
    }
   ],
   "source": [
    "! pip uninstall spectral_recovery"
   ]
  },
  {
   "cell_type": "code",
   "execution_count": null,
   "metadata": {},
   "outputs": [],
   "source": []
  }
 ],
 "metadata": {
  "interpreter": {
   "hash": "dcabc692b03f7e019ab87f9b1754935a4d34e07051f12acb5236747821ea6542"
  },
  "kernelspec": {
   "display_name": "Python 3.10.0 64-bit ('3.10.0')",
   "language": "python",
   "name": "python3"
  },
  "language_info": {
   "codemirror_mode": {
    "name": "ipython",
    "version": 3
   },
   "file_extension": ".py",
   "mimetype": "text/x-python",
   "name": "python",
   "nbconvert_exporter": "python",
   "pygments_lexer": "ipython3",
   "version": "3.11.6"
  },
  "orig_nbformat": 4
 },
 "nbformat": 4,
 "nbformat_minor": 2
}
