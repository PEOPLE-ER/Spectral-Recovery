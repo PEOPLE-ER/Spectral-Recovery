{
 "cells": [
  {
   "cell_type": "markdown",
   "metadata": {},
   "source": [
    "# Quick Overview"
   ]
  },
  {
   "cell_type": "markdown",
   "metadata": {
    "tags": []
   },
   "source": [
    "This notebook provides a quick example of how to start using the `spectral_recovery` package. More detailed examples will soon become available in the [User Guide](https://people-er.github.io/Spectral-Recovery/about/).\n",
    "\n",
    "If you want to try out the tool on your own, you can use the [test data on GitHub](https://github.com/PEOPLE-ER/Spectral-Recovery/tree/main/docs/test_data/test_data.zip)."
   ]
  },
  {
   "cell_type": "markdown",
   "metadata": {},
   "source": [
    "Once the tool is installed with `pip install spectral-recovery`, you can import the package"
   ]
  },
  {
   "cell_type": "code",
   "execution_count": 1,
   "metadata": {
    "tags": []
   },
   "outputs": [],
   "source": [
    "import spectral_recovery as sr"
   ]
  },
  {
   "cell_type": "markdown",
   "metadata": {
    "tags": []
   },
   "source": [
    "## Defining a RestorationArea\n",
    "\n",
    "To begin, we must create a `RestorationArea` object. This object holds and coordinates all the information necessary to compute recovery metrics for an area that has experienced disturbance and/or restoration. The following section briefly describes the input parameters but for more in-depth information, please see the [Spectral Recovery Tool](https://people-er.github.io/Spectral-Recovery/about/#2-the-spectral-recovery-tool) section in the User Guide."
   ]
  },
  {
   "cell_type": "markdown",
   "metadata": {
    "tags": []
   },
   "source": [
    "### Input Parameters"
   ]
  },
  {
   "cell_type": "markdown",
   "metadata": {
    "tags": []
   },
   "source": [
    "| Name  | Type  | Description  |\n",
    "|---|:---:|---|\n",
    "| **restoration_polygon**  | geopandas.GeoDataFrame  | The spatial and temporal deliniation of the restoration event, i.e where disturance/restoration has occured with dates as attributes  |   \n",
    "|  **reference_polygons** | geopandas.GeoDataFrame  | The spatial deliniation of the reference systems.  |   \n",
    "|  **composite_stack** | xarray.DataArray  | The timeseries of annual composites for computing recovery metrics.   |  "
   ]
  },
  {
   "cell_type": "markdown",
   "metadata": {
    "tags": []
   },
   "source": [
    "### Prepping Inputs"
   ]
  },
  {
   "cell_type": "markdown",
   "metadata": {},
   "source": [
    "#### Annual Composites"
   ]
  },
  {
   "cell_type": "markdown",
   "metadata": {},
   "source": [
    "Next, read in your set of annual composites. To do this use the `read_and_stack_tifs` method. The method requires that you either provide a path to a directory containing all of your annual composites, or you provide a list of paths to each individual composite. Each composite:\n",
    "\n",
    "1. _must_ be named after the year of which they are a composite, e.g for a composite of 2014 the file must be named `2014.tif`\n",
    "2. _must_ have the bands named by their common names/acronyms\n",
    "\n",
    "Each composite can contain multiple bands but each band must be present in all composites. "
   ]
  },
  {
   "cell_type": "markdown",
   "metadata": {},
   "source": [
    "The set of annual composites that we'll be using in this notebook was created using the [GEE BAP tool](https://github.com/saveriofrancini/bap)."
   ]
  },
  {
   "cell_type": "code",
   "execution_count": 2,
   "metadata": {
    "tags": []
   },
   "outputs": [],
   "source": [
    "composite_stack = sr.read_timeseries(\n",
    "    \"test_data/annual_composites/landsat\",\n",
    "    band_names={1: \"blue\", 2: \"green\", 3: \"red\", 4: \"nir\", 5: \"swir16\", 6: \"swir22\"},\n",
    "    array_type=\"numpy\"\n",
    ")"
   ]
  },
  {
   "cell_type": "markdown",
   "metadata": {
    "tags": []
   },
   "source": [
    "#### Restoration Site (polygon and dates)"
   ]
  },
  {
   "cell_type": "markdown",
   "metadata": {},
   "source": [
    "Read your restoration polygon using GeoPandas. The restoration polygon must have 4 columns in it's attribute table: the disturbance window start year, restoration window start year, reference start year, and reference end year. The years should be in the 1st, 2nd, 3rd, and 4th columns of the attribute table, respectively. The names of the columns do not matter, only the order."
   ]
  },
  {
   "cell_type": "code",
   "execution_count": 3,
   "metadata": {
    "tags": []
   },
   "outputs": [
    {
     "data": {
      "text/html": [
       "<div>\n",
       "<style scoped>\n",
       "    .dataframe tbody tr th:only-of-type {\n",
       "        vertical-align: middle;\n",
       "    }\n",
       "\n",
       "    .dataframe tbody tr th {\n",
       "        vertical-align: top;\n",
       "    }\n",
       "\n",
       "    .dataframe thead th {\n",
       "        text-align: right;\n",
       "    }\n",
       "</style>\n",
       "<table border=\"1\" class=\"dataframe\">\n",
       "  <thead>\n",
       "    <tr style=\"text-align: right;\">\n",
       "      <th></th>\n",
       "      <th>dist_start</th>\n",
       "      <th>rest_start</th>\n",
       "      <th>ref_start</th>\n",
       "      <th>red_end</th>\n",
       "      <th>geometry</th>\n",
       "    </tr>\n",
       "  </thead>\n",
       "  <tbody>\n",
       "    <tr>\n",
       "      <th>0</th>\n",
       "      <td>2005</td>\n",
       "      <td>2006</td>\n",
       "      <td>2003</td>\n",
       "      <td>2004</td>\n",
       "      <td>POLYGON ((493422.289 5967394.258, 493406.564 5...</td>\n",
       "    </tr>\n",
       "  </tbody>\n",
       "</table>\n",
       "</div>"
      ],
      "text/plain": [
       "   dist_start  rest_start  ref_start  red_end  \\\n",
       "0        2005        2006       2003     2004   \n",
       "\n",
       "                                            geometry  \n",
       "0  POLYGON ((493422.289 5967394.258, 493406.564 5...  "
      ]
     },
     "execution_count": 3,
     "metadata": {},
     "output_type": "execute_result"
    }
   ],
   "source": [
    "import geopandas as gpd\n",
    "\n",
    "restoration_poly = sr.read_restoration_polygons(\"test_data/wildfire_516.gpkg\")\n",
    "restoration_poly"
   ]
  },
  {
   "cell_type": "code",
   "execution_count": null,
   "metadata": {},
   "outputs": [],
   "source": [
    "restoration_poly.plot(figsize=(2, 2)).set_title(\"Test restoration polygon\")"
   ]
  },
  {
   "cell_type": "markdown",
   "metadata": {
    "tags": []
   },
   "source": [
    "### Computing Recovery Metrics"
   ]
  },
  {
   "cell_type": "markdown",
   "metadata": {},
   "source": [
    "Now that we've prepped our input, we can create start computing recovery metrics.\n",
    "\n",
    "A novel feature of the `spectral_recovery` package is that it allows users to choose between using a [historic recovery target](https://people-er.github.io/Spectral-Recovery/about/#14-recovery-targets) or a [reference recovery target](https://people-er.github.io/Spectral-Recovery/about/#14-recovery-targets) when computing recovery metrics. Be sure to consult the user guide and current literature when deciding which type of target works best for computing your recovery metrics."
   ]
  },
  {
   "cell_type": "markdown",
   "metadata": {},
   "source": [
    "#### Recovery Metrics with Median Recovery Target\n",
    "\n",
    "A historical recovery target is computed using historic (prior to disturbance) values from the restoration site. Historic recovery targets can either be computed on the _pixel scale_, meaning that each pixel in the restoration site has a unique recovery target, or on the _polygon scale_, where the whole polygon has a single recovery target value. \n",
    "\n",
    "To compute recovery metrics using a median per-pixel recovery target, you only need to provide the restoration site and set the appopriate reference years."
   ]
  },
  {
   "cell_type": "code",
   "execution_count": null,
   "metadata": {},
   "outputs": [],
   "source": [
    "# By default, the recovery targets are computed at the polygon scale.\n",
    "ra_hist_polygon = sr.compute_metrics(\n",
    "    timeseries_data=composite_stack,\n",
    "    restoration_polygons=restoration_poly,\n",
    "    metrics=[\"Y2R\", \"dNBR\", \"R80P\", \"YrYr\"],\n",
    "    indices=[\"NDVI\", \"NBR\", \"GNDVI\"],\n",
    "    timestep=4\n",
    ")"
   ]
  },
  {
   "cell_type": "code",
   "execution_count": null,
   "metadata": {
    "tags": []
   },
   "outputs": [],
   "source": [
    "# Parameterize a MedianTarget method for pixel scale.\n",
    "per_pixel_method = sr.targets.MedianTarget(scale=\"pixel\")\n",
    "\n",
    "# To compute recovery targets at the pixel scale, pass the parameterized method.\n",
    "recovery_metrics_pixel_target = sr.compute_metrics(\n",
    "    timeseries_data=composite_stack,\n",
    "    restoration_polygons=restoration_poly,\n",
    "    metrics=[\"Y2R\", \"dNBR\", \"R80P\", \"YrYr\"],\n",
    "    indices=[\"NDVI\", \"NBR\", \"GNDVI\"],\n",
    "    recovery_target_method=per_pixel_method,\n",
    "    timestep=4\n",
    ")"
   ]
  },
  {
   "cell_type": "markdown",
   "metadata": {},
   "source": [
    "#### Recovery Metrics with Windowed Recovery Target"
   ]
  },
  {
   "cell_type": "code",
   "execution_count": 4,
   "metadata": {},
   "outputs": [
    {
     "name": "stdout",
     "output_type": "stream",
     "text": [
      "before indices\n",
      "before ra\n",
      "before metrics\n",
      "inside try\n",
      "succ try\n",
      "0:97 + 1, 0:117 + 1\n",
      "<xarray.DataArray (band: 1, y: 97, x: 118)> Size: 46kB\n",
      "array([[[0.6818093 , 0.73142767, 0.73142767, ..., 0.80234617,\n",
      "         0.80234617, 0.80234617],\n",
      "        [0.6818093 , 0.73142767, 0.73142767, ..., 0.80234617,\n",
      "         0.80234617, 0.80234617],\n",
      "        [0.6818093 , 0.73142767, 0.73142767, ..., 0.80234617,\n",
      "         0.80234617, 0.80234617],\n",
      "        ...,\n",
      "        [0.8040278 , 0.7842895 , 0.7842895 , ..., 0.7414447 ,\n",
      "         0.7414447 , 0.7414447 ],\n",
      "        [0.8040278 , 0.7842895 , 0.7842895 , ..., 0.7414447 ,\n",
      "         0.7414447 , 0.7414447 ],\n",
      "        [0.8232721 , 0.78969514, 0.78969514, ..., 0.75975096,\n",
      "         0.75975096, 0.75975096]]], dtype=float32)\n",
      "Coordinates:\n",
      "  * band         (band) object 8B 'NDVI'\n",
      "  * x            (x) float64 944B 4.922e+05 4.923e+05 ... 4.934e+05 4.934e+05\n",
      "  * y            (y) float64 776B 5.968e+06 5.968e+06 ... 5.967e+06 5.967e+06\n",
      "    spatial_ref  int32 4B 0\n",
      "<xarray.DataArray (band: 1, y: 96, x: 118)> Size: 45kB\n",
      "array([[[nan, nan, nan, ..., nan, nan, nan],\n",
      "        [nan, nan, nan, ..., nan, nan, nan],\n",
      "        [nan, nan, nan, ..., nan, nan, nan],\n",
      "        ...,\n",
      "        [nan, nan, nan, ..., nan, nan, nan],\n",
      "        [nan, nan, nan, ..., nan, nan, nan],\n",
      "        [nan, nan, nan, ..., nan, nan, nan]]], dtype=float32)\n",
      "Coordinates:\n",
      "  * band         (band) object 8B 'NDVI'\n",
      "  * x            (x) float64 944B 4.922e+05 4.923e+05 ... 4.934e+05 4.934e+05\n",
      "  * y            (y) float64 768B 5.968e+06 5.968e+06 ... 5.967e+06 5.967e+06\n",
      "    spatial_ref  int32 4B 0\n",
      "succ all metrics\n"
     ]
    }
   ],
   "source": [
    "# Parameterize a WindowedTarget method\n",
    "windowed_method = sr.targets.WindowedTarget(N=1)\n",
    "\n",
    "# To compute recovery targets at the pixel scale, pass the parameterized method.\n",
    "recovery_metrics_window_target = sr.compute_metrics(\n",
    "    timeseries_data=composite_stack,\n",
    "    restoration_polygons=restoration_poly,\n",
    "    metrics=[\"Y2R\"],\n",
    "    indices=[\"NDVI\"],\n",
    "    recovery_target_method=windowed_method,\n",
    ")"
   ]
  },
  {
   "cell_type": "markdown",
   "metadata": {
    "tags": []
   },
   "source": [
    "You can visualize the spectral trajectory of your RestorationArea using the `plot_spectral_trajectory` function. If you want to write the plot to file, pass your desired path to the function."
   ]
  },
  {
   "cell_type": "code",
   "execution_count": null,
   "metadata": {
    "tags": []
   },
   "outputs": [],
   "source": [
    "sr.plot_spectral_trajectory(\n",
    "    timeseries_data=composite_stack,\n",
    "    restoration_polygons=restoration_poly,\n",
    "    indices=[\"NDVI\", \"NBR\", \"GNDVI\"],\n",
    ")\n",
    "# or\n",
    "# ra_hist.plot_spectral_trajectory(\"path/to/your_plot.png\")"
   ]
  },
  {
   "cell_type": "code",
   "execution_count": null,
   "metadata": {},
   "outputs": [],
   "source": [
    "sr.plot_spectral_trajectory(\n",
    "    timeseries_data=composite_stack,\n",
    "    restoration_polygons=restoration_poly,\n",
    "    indices=[\"NDVI\", \"NBR\", \"GNDVI\"],\n",
    "    recovery_target_method=per_pixel_method\n",
    ")"
   ]
  },
  {
   "cell_type": "markdown",
   "metadata": {},
   "source": [
    "#### Recovery metrics with Reference Recovery Target\n",
    "\n",
    "A reference recovery target is computed using an area(s) in the same landscape as the restoration site that exhibits desirable, healthy, and stable ecosystem conditions (Gann et al., 2019). Reference areas can be composed of a single or multiple polygons. If the latter, the median of all individual polygon targets is taken to be the recovery target. All reference targets are a single value (i.e one value per-band), computed as the median across time and then space. To compute recovery metrics using reference recovery target, pass your reference site polygon(s) to the `reference_polygon=` parameter with the reference start year and reference end year in the polygon's attribute table."
   ]
  },
  {
   "cell_type": "code",
   "execution_count": null,
   "metadata": {},
   "outputs": [],
   "source": [
    "reference_poly = sr.read_reference_polygons(\"path/to/reference.gpkg\")\n",
    "\n",
    "\n",
    "ra_ref = sr.compute_metrics(\n",
    "    restoration_polygon=restoration_poly,\n",
    "    reference_polygon=reference_poly, # set this param to use a reference recovery target\n",
    "    composite_stack=composite_stack,\n",
    "    metrics=[\"Y2R\", \"dNBR\", \"R80P\", \"YrYr\"],\n",
    "    indices=[\"NDVI\", \"NBR\", \"GNDVI\"],\n",
    "    timestep=4\n",
    ")"
   ]
  },
  {
   "cell_type": "markdown",
   "metadata": {
    "tags": []
   },
   "source": [
    "## Viewing Recovery Metrics"
   ]
  },
  {
   "cell_type": "code",
   "execution_count": null,
   "metadata": {
    "tags": []
   },
   "outputs": [],
   "source": [
    "import matplotlib.pyplot as plt\n",
    "\n",
    "def plot_metrics(metric):\n",
    "    \"\"\" Plot the three bands in a single figure. \"\"\"\n",
    "    fig, axes = plt.subplots(ncols=3, sharex=True, sharey=True, figsize=[15, 4])\n",
    "    for i in range(3):\n",
    "        metric[0,i,:,:].plot(ax=axes[i])\n",
    "        axes[i].set_title(f\"{str(metric.metric.values[0])}: {metric['band'].values[i]}\")\n",
    "        axes[i].set_xlabel(\"X coordinate\")\n",
    "        if i == 0:\n",
    "            axes[i].set_ylabel(\"Y coordinate\")\n",
    "        else:\n",
    "            axes[i].set_ylabel(\"\")\n",
    "        plt.tight_layout()\n"
   ]
  },
  {
   "cell_type": "markdown",
   "metadata": {},
   "source": [
    "Once you've computed your desired metrics, you can start visualization and analysis."
   ]
  },
  {
   "cell_type": "markdown",
   "metadata": {},
   "source": [
    "### Y2R"
   ]
  },
  {
   "cell_type": "code",
   "execution_count": null,
   "metadata": {
    "tags": []
   },
   "outputs": [],
   "source": [
    "y2r = recovery_metrics_pixel_target.sel(metric=[\"Y2R\"])\n",
    "plot_metrics(y2r)"
   ]
  },
  {
   "cell_type": "markdown",
   "metadata": {
    "tags": []
   },
   "source": [
    "### R80P"
   ]
  },
  {
   "cell_type": "code",
   "execution_count": null,
   "metadata": {
    "tags": []
   },
   "outputs": [],
   "source": [
    "r80p = recovery_metrics_pixel_target.sel(metric=[\"R80P\"])\n",
    "plot_metrics(r80p)"
   ]
  },
  {
   "cell_type": "markdown",
   "metadata": {},
   "source": [
    "### YrYr"
   ]
  },
  {
   "cell_type": "code",
   "execution_count": null,
   "metadata": {
    "tags": []
   },
   "outputs": [],
   "source": [
    "yryr = recovery_metrics_pixel_target.sel(metric=[\"YrYr\"])\n",
    "plot_metrics(yryr)"
   ]
  },
  {
   "cell_type": "markdown",
   "metadata": {
    "tags": []
   },
   "source": [
    "### dNBR"
   ]
  },
  {
   "cell_type": "code",
   "execution_count": null,
   "metadata": {
    "tags": []
   },
   "outputs": [],
   "source": [
    "dNBR = recovery_metrics_pixel_target.sel(metric=[\"dNBR\"])\n",
    "plot_metrics(dNBR)"
   ]
  },
  {
   "cell_type": "markdown",
   "metadata": {},
   "source": [
    "###  Writing Results\n",
    "\n",
    "To write your metric results to raster files, the simpliest way is to use `rioxarray`'s `to_raster` function:\n"
   ]
  },
  {
   "cell_type": "code",
   "execution_count": null,
   "metadata": {},
   "outputs": [],
   "source": [
    "# write out y2r results to file:\n",
    "y2r.sel(metric=\"Y2R\").rio.to_raster(\"./y2r.tif\")"
   ]
  },
  {
   "cell_type": "markdown",
   "metadata": {},
   "source": []
  }
 ],
 "metadata": {
  "interpreter": {
   "hash": "dcabc692b03f7e019ab87f9b1754935a4d34e07051f12acb5236747821ea6542"
  },
  "kernelspec": {
   "display_name": "Python 3 (ipykernel)",
   "language": "python",
   "name": "python3"
  },
  "language_info": {
   "codemirror_mode": {
    "name": "ipython",
    "version": 3
   },
   "file_extension": ".py",
   "mimetype": "text/x-python",
   "name": "python",
   "nbconvert_exporter": "python",
   "pygments_lexer": "ipython3",
   "version": "3.11.2"
  }
 },
 "nbformat": 4,
 "nbformat_minor": 4
}
