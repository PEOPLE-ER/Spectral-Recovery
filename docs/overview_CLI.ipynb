{
 "cells": [
  {
   "cell_type": "markdown",
   "id": "8fa3dea3-ba1e-4ac7-be80-855a1986e8c3",
   "metadata": {},
   "source": [
    "# Using the Command-line Interface (CLI)"
   ]
  },
  {
   "cell_type": "code",
   "execution_count": null,
   "id": "5c2127c0-4099-4c29-8bf1-3ed4608ffab7",
   "metadata": {
    "tags": []
   },
   "outputs": [],
   "source": [
    "! pip install spectral-recovery==0.1.1b1"
   ]
  },
  {
   "cell_type": "markdown",
   "id": "6cdf35b8",
   "metadata": {},
   "source": [
    "After you've installed spectral-recovery,the tool can accessed from the command-line using the `specrec` command. Try out the help command to see the different options and arguments!"
   ]
  },
  {
   "cell_type": "code",
   "execution_count": 6,
   "id": "26587b0c",
   "metadata": {
    "tags": []
   },
   "outputs": [
    {
     "name": "stdout",
     "output_type": "stream",
     "text": [
      "Usage: specrec [OPTIONS] TIF_DIR OUT REST_POLY [%Y] REF_POLY REF_YEARS...\n",
      "               COMMAND1 [ARGS]... [COMMAND2 [ARGS]...]...\n",
      "\n",
      "  Compute recovery metrics.\n",
      "\n",
      "  This script will compute recovery metrics over the area of REST_POLY using\n",
      "  spectral data from annual composites in TIF_DIR. Recovery targets will be\n",
      "  derived over REF_POLYGON for REF_YEARS.\n",
      "\n",
      "  TIF_DIR        Path to a directory containing annual composites.\n",
      "  OUT            Path to directory to write output rasters.\n",
      "  REST_POLY      Path to the restoration area polygon.\n",
      "  REST_YEAR      Year the restoration event began.\n",
      "  REF_POLY       Path to reference polygon(s).\n",
      "  REF_YEARS      Start and end years over which to derive a recovery target.\n",
      "\n",
      "Options:\n",
      "  -i, --indices [NDVI|NBR|GNDVI|EVI|AVI|SAVI|NDWI|TCG|TCW|TCB|SR|NDMI|GCI|NDII]\n",
      "                                  The indices on which to compute recovery\n",
      "                                  metrics.\n",
      "  --mask PATH                     Path to a data mask for annual composites.\n",
      "  --help                          Show this message and exit.\n",
      "\n",
      "Commands:\n",
      "  R80P\n",
      "  RRI\n",
      "  Y2R\n",
      "  YrYr\n",
      "  dNBR\n",
      "\u001b[0m"
     ]
    }
   ],
   "source": [
    "\n",
    "! specrec --help\n"
   ]
  },
  {
   "cell_type": "markdown",
   "id": "a8f5963b",
   "metadata": {},
   "source": [
    "\n",
    "Below is an example of how you would call the `specrec` tool to get the Y2R and the R80P recovery metrics for your restoration area:"
   ]
  },
  {
   "cell_type": "code",
   "execution_count": 7,
   "id": "df9e639a",
   "metadata": {
    "tags": []
   },
   "outputs": [
    {
     "name": "stdout",
     "output_type": "stream",
     "text": [
      "\n",
      "Reading in annual composites from 'test_data/annual_composites/test_baps'\n",
      "Computing indices: ('NBR', 'GNDVI')\n",
      "\u001b[0m\u001b[0m\u001b[0m\u001b[0mComputing Y2R\n",
      "Writing metrics to 'test_data/outputs'...\n",
      "/srv/conda/envs/notebook/lib/python3.10/site-packages/dask/core.py:121: RuntimeWarning: invalid value encountered in divide\n",
      "  return func(*(_execute_task(a, cache) for a in args))\n",
      "/srv/conda/envs/notebook/lib/python3.10/site-packages/dask/array/reductions.py:1073: RuntimeWarning: All-NaN slice encountered\n",
      "  vals = func(x, axis=arg_axis, keepdims=True)\n",
      "/srv/conda/envs/notebook/lib/python3.10/site-packages/dask/core.py:121: RuntimeWarning: invalid value encountered in divide\n",
      "  return func(*(_execute_task(a, cache) for a in args))\n",
      "/srv/conda/envs/notebook/lib/python3.10/site-packages/dask/array/reductions.py:1073: RuntimeWarning: All-NaN slice encountered\n",
      "  vals = func(x, axis=arg_axis, keepdims=True)\n",
      "Finished.\n",
      "\u001b[0m"
     ]
    }
   ],
   "source": [
    "! specrec -i NBR -i GNDVI test_data/annual_composites/test_baps test_data/outputs test_data/test_restoration_polygon.gpkg 2015 test_data/test_restoration_polygon.gpkg 2012 2013 Y2R"
   ]
  },
  {
   "cell_type": "markdown",
   "id": "356aec14",
   "metadata": {},
   "source": [
    "The command reads in the annual composites an--like the [Quick Overview](https://people-er.github.io/Spectral-Recovery/overview_API/)--defines a restoration polygon whose restoration event began in 2015, and a which has a historic recovery target derived from the years 2012-2013. The `-i` flags at the start of the command indicate that the recovery metrics should be computed using the NBR and NDVI indices, while the subcommands at the end (`Y2R`, `R80P`, etc.) are the choices of recovery metrics to compute for each index. \n",
    "\n",
    "Results are written to the output directory (e.g 'test_data/outputs'), with one multi-band tif written for each metric computed. Filenames are the restpective metric, e.g 'Y2R.tif'.\n"
   ]
  }
 ],
 "metadata": {
  "kernelspec": {
   "display_name": "Python 3 (ipykernel)",
   "language": "python",
   "name": "python3"
  },
  "language_info": {
   "codemirror_mode": {
    "name": "ipython",
    "version": 3
   },
   "file_extension": ".py",
   "mimetype": "text/x-python",
   "name": "python",
   "nbconvert_exporter": "python",
   "pygments_lexer": "ipython3",
   "version": "3.10.12"
  }
 },
 "nbformat": 4,
 "nbformat_minor": 5
}
