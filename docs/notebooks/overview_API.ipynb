{
 "cells": [
  {
   "cell_type": "markdown",
   "metadata": {},
   "source": [
    "# Quick Overview"
   ]
  },
  {
   "cell_type": "markdown",
   "metadata": {
    "tags": []
   },
   "source": [
    "This notebook provides a quick example of how to start using the `spectral_recovery` package. More detailed examples will soon become available in the [User Guide](https://people-er.github.io/Spectral-Recovery/about/)."
   ]
  },
  {
   "cell_type": "markdown",
   "metadata": {
    "tags": []
   },
   "source": [
    "## Installation"
   ]
  },
  {
   "cell_type": "markdown",
   "metadata": {},
   "source": [
    "The tool can be installed using the package manager pip. The package is in <ins>pre-release state</ins> so we must specify the version number `=0.1.0b1` in order to download."
   ]
  },
  {
   "cell_type": "code",
   "execution_count": null,
   "metadata": {
    "tags": []
   },
   "outputs": [],
   "source": [
    "! pip install spectral-recovery==0.1.1b1"
   ]
  },
  {
   "cell_type": "markdown",
   "metadata": {},
   "source": [
    "Once the tool is installed, you can import the relevant modules:"
   ]
  },
  {
   "cell_type": "code",
   "execution_count": null,
   "metadata": {
    "tags": []
   },
   "outputs": [],
   "source": [
    "from spectral_recovery.restoration import RestorationArea\n",
    "from spectral_recovery.io import raster"
   ]
  },
  {
   "cell_type": "markdown",
   "metadata": {
    "tags": []
   },
   "source": [
    "## Defining a RestorationArea\n",
    "\n",
    "To begin, we must create a `RestorationArea` object. This object holds and coordinates all the information necessary to compute recovery metrics for an area that has experienced disturbance and/or restoration. The following section briefly describes the input parameters but for more in-depth information, please see the [THE SPECTRAL RECOVERY TOOL](https://people-er.github.io/Spectral-Recovery/about/#2-the-spectral-recovery-tool) section in the User Guide."
   ]
  },
  {
   "cell_type": "markdown",
   "metadata": {
    "tags": []
   },
   "source": [
    "### Input Parameters"
   ]
  },
  {
   "cell_type": "markdown",
   "metadata": {
    "tags": []
   },
   "source": [
    "| Name  | Type  | Description  |\n",
    "|---|:---:|---|\n",
    "| **restoration_polygon**  | geopandas.GeoDataFrame  | The spatial deliniation of the restoration event, i.e where disturance/restoration has occured.  |   \n",
    "|  **restoration_start** | datetime | The year the disturbance began.  |   \n",
    "| **disturbance_start**  | datetime  |  The year the restoration event began. |  \n",
    "|  **reference_polygon** | geopandas.GeoDataFrame  | The spatial deliniation of the reference systems.  |   \n",
    "|  **reference_years** | list of datetime  | The year or range of years to use for determining a recovery target.  |   \n",
    "|  **composite_stack** | xarray.DataArray  | The timeseries of annual composites for computing recovery metrics.   |  "
   ]
  },
  {
   "cell_type": "markdown",
   "metadata": {
    "tags": []
   },
   "source": [
    "### Prepping Inputs"
   ]
  },
  {
   "cell_type": "markdown",
   "metadata": {
    "tags": []
   },
   "source": [
    "#### Polygons"
   ]
  },
  {
   "cell_type": "markdown",
   "metadata": {},
   "source": [
    "Start by reading in a restoration polygon into a geopandas.GeoDataFrame."
   ]
  },
  {
   "cell_type": "code",
   "execution_count": null,
   "metadata": {
    "tags": []
   },
   "outputs": [],
   "source": [
    "import geopandas as gpd\n",
    "\n",
    "restoration_poly = gpd.read_file(\"test_data/test_restoration_polygon.gpkg\")\n",
    "restoration_poly.plot(figsize=(2, 2)).set_title(\"Test restoration polygon\")"
   ]
  },
  {
   "cell_type": "markdown",
   "metadata": {},
   "source": [
    "#### Annual Composites"
   ]
  },
  {
   "cell_type": "markdown",
   "metadata": {},
   "source": [
    "Next, read in your set of annual composites. To do this use the `read_and_stack_tifs` method provided in the package's `io.raster` module. The methods requires that you either provide a path to a directory containing all of your annual composites, or you provide a list of paths to each individual composite. Each composite:\n",
    "\n",
    "1. _must_ be named after the year of which they are a composite, e.g for a composite of 2014 the file must be named `2014.tif`\n",
    "2. _must_ have the bands named by their common names/acronyms\n",
    "\n",
    "Each composite can contain multiple bands but each band must be present in all composites."
   ]
  },
  {
   "cell_type": "markdown",
   "metadata": {},
   "source": [
    "The set of annual composites that we'll be using in this notebook was created using the [GEE BAP tool](https://github.com/saveriofrancini/bap)."
   ]
  },
  {
   "cell_type": "code",
   "execution_count": null,
   "metadata": {
    "tags": []
   },
   "outputs": [],
   "source": [
    "composite_stack = raster.read_and_stack_tifs(\"test_data/annual_composites/test_baps\")\n",
    "composite_stack"
   ]
  },
  {
   "cell_type": "markdown",
   "metadata": {},
   "source": [
    "Compute indices using the `satts` accessor, you can choose from the following indices: 'NDVI', 'NBR','GNDVI', 'EVI', 'AVI', 'SAVI','NDWI','TCG','TCW','TCB','SR','NDMI','GCI','NDII'"
   ]
  },
  {
   "cell_type": "code",
   "execution_count": null,
   "metadata": {
    "tags": []
   },
   "outputs": [],
   "source": [
    "from spectral_recovery.enums import Index\n",
    "\n",
    "indices_stack = composite_stack.satts.indices([Index.nbr, Index.ndmi, Index.gndvi])\n",
    "indices_stack"
   ]
  },
  {
   "cell_type": "markdown",
   "metadata": {},
   "source": [
    "#### Dates/Years"
   ]
  },
  {
   "cell_type": "markdown",
   "metadata": {
    "tags": []
   },
   "source": [
    "Finally, define the years we need for a restoration area: disturbance event start year, restoration event start year, and reference year(s)."
   ]
  },
  {
   "cell_type": "code",
   "execution_count": null,
   "metadata": {
    "tags": []
   },
   "outputs": [],
   "source": [
    "import pandas as pd\n",
    "\n",
    "disturbance_start = pd.to_datetime(\"2014\") # the disturbance started in this year\n",
    "restoration_start = pd.to_datetime(\"2015\") # the restoration started in this year (and disturbance ended in this year)\n",
    "reference_years = [pd.to_datetime(\"2012\"), pd.to_datetime(\"2013\")] # derive recovery target from the range of these years"
   ]
  },
  {
   "cell_type": "markdown",
   "metadata": {
    "tags": []
   },
   "source": [
    "### Creating a RestorationArea"
   ]
  },
  {
   "cell_type": "markdown",
   "metadata": {},
   "source": [
    "Now that we've prepped our input, we can create a RestorationArea and are one step closer to computing recovery metrics."
   ]
  },
  {
   "cell_type": "code",
   "execution_count": null,
   "metadata": {
    "tags": []
   },
   "outputs": [],
   "source": [
    "ra = RestorationArea(\n",
    "    restoration_polygon=restoration_poly,\n",
    "    reference_polygon=restoration_poly,\n",
    "    disturbance_start=disturbance_start, \n",
    "    restoration_start=restoration_start,\n",
    "    reference_years=reference_years,\n",
    "    composite_stack=indices_stack,\n",
    ")\n",
    "# ta-da! "
   ]
  },
  {
   "cell_type": "markdown",
   "metadata": {
    "tags": []
   },
   "source": [
    "Our RestorationArea `ra` derives a recovery target from a historical approach, over the provided reference years. We can view the result by investigating the `ra.reference_system` attribute."
   ]
  },
  {
   "cell_type": "code",
   "execution_count": null,
   "metadata": {
    "tags": []
   },
   "outputs": [],
   "source": [
    "ra.reference_system.recovery_target()[\"recovery_target\"].compute()"
   ]
  },
  {
   "cell_type": "markdown",
   "metadata": {
    "tags": []
   },
   "source": [
    "## Computing Recovery Metrics"
   ]
  },
  {
   "cell_type": "code",
   "execution_count": null,
   "metadata": {
    "tags": []
   },
   "outputs": [],
   "source": [
    "import matplotlib.pyplot as plt"
   ]
  },
  {
   "cell_type": "markdown",
   "metadata": {},
   "source": [
    "Now that we have our RestorationArea defined, computing recovery metrics is as simple as calling the desired metric method!"
   ]
  },
  {
   "cell_type": "markdown",
   "metadata": {},
   "source": [
    "### Y2R"
   ]
  },
  {
   "cell_type": "code",
   "execution_count": null,
   "metadata": {
    "tags": []
   },
   "outputs": [],
   "source": [
    "y2r = ra.Y2R()"
   ]
  },
  {
   "cell_type": "code",
   "execution_count": null,
   "metadata": {
    "tags": []
   },
   "outputs": [],
   "source": [
    "fig, axes = plt.subplots(ncols=3, sharex=True, sharey=True, figsize=[15, 4])\n",
    "for i in range(3):\n",
    "    y2r[0,i,:,:].plot(ax=axes[i])\n",
    "    axes[i].set_title(f\"Y2R: {y2r['band'].values[i]}\")"
   ]
  },
  {
   "cell_type": "markdown",
   "metadata": {
    "tags": []
   },
   "source": [
    "### R80P"
   ]
  },
  {
   "cell_type": "code",
   "execution_count": null,
   "metadata": {
    "tags": []
   },
   "outputs": [],
   "source": [
    "r80p = ra.R80P()"
   ]
  },
  {
   "cell_type": "code",
   "execution_count": null,
   "metadata": {
    "tags": []
   },
   "outputs": [],
   "source": [
    "fig, axes = plt.subplots(ncols=3, sharex=True, sharey=True, figsize=[15, 4])\n",
    "for i in range(3):\n",
    "    r80p[0,i,:,:].plot(ax=axes[i])\n",
    "    axes[i].set_title(f\"R80P: {y2r['band'].values[i]}\")"
   ]
  },
  {
   "cell_type": "markdown",
   "metadata": {},
   "source": [
    "### YrYr"
   ]
  },
  {
   "cell_type": "code",
   "execution_count": null,
   "metadata": {
    "tags": []
   },
   "outputs": [],
   "source": [
    "yryr = ra.YrYr()"
   ]
  },
  {
   "cell_type": "code",
   "execution_count": null,
   "metadata": {
    "tags": []
   },
   "outputs": [],
   "source": [
    "fig, axes = plt.subplots(ncols=3, sharex=True, sharey=True, figsize=[15, 4])\n",
    "for i in range(3):\n",
    "    yryr[0,i,:,:].plot(ax=axes[i])\n",
    "    axes[i].set_title(f\"YrYr: {y2r['band'].values[i]}\")"
   ]
  },
  {
   "cell_type": "markdown",
   "metadata": {
    "tags": []
   },
   "source": [
    "### dNBR"
   ]
  },
  {
   "cell_type": "code",
   "execution_count": null,
   "metadata": {
    "tags": []
   },
   "outputs": [],
   "source": [
    "dNBR = ra.dNBR()"
   ]
  },
  {
   "cell_type": "code",
   "execution_count": null,
   "metadata": {
    "tags": []
   },
   "outputs": [],
   "source": [
    "fig, axes = plt.subplots(ncols=3, sharex=True, sharey=True, figsize=[15, 4])\n",
    "for i in range(3):\n",
    "    dNBR[0,i,:,:].plot(ax=axes[i])\n",
    "    axes[i].set_title(f\"dNBR: {y2r['band'].values[i]}\")"
   ]
  }
 ],
 "metadata": {
  "interpreter": {
   "hash": "dcabc692b03f7e019ab87f9b1754935a4d34e07051f12acb5236747821ea6542"
  },
  "kernelspec": {
   "display_name": "Python 3 (ipykernel)",
   "language": "python",
   "name": "python3"
  },
  "language_info": {
   "codemirror_mode": {
    "name": "ipython",
    "version": 3
   },
   "file_extension": ".py",
   "mimetype": "text/x-python",
   "name": "python",
   "nbconvert_exporter": "python",
   "pygments_lexer": "ipython3",
   "version": "3.10.12"
  }
 },
 "nbformat": 4,
 "nbformat_minor": 4
}
