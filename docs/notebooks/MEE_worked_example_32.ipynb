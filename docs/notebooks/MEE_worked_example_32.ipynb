{
 "cells": [
  {
   "cell_type": "markdown",
   "metadata": {},
   "source": [
    "This notebook contains code to replicate the workflow and results presented in Section 3.2 of \"spectral-recovery: A Python package for spectral recovery analysis of forest ecosystems\".\n",
    "\n",
    "The workflow can be broken down into 4 steps:\n",
    "\n",
    "1. Read timeseries data/compute indices\n",
    "2. Define the restoration site\n",
    "3. Compute a recovery target\n",
    "4. Compute recovery metrics"
   ]
  },
  {
   "cell_type": "code",
   "execution_count": null,
   "metadata": {},
   "outputs": [],
   "source": [
    "!pip install spectral_recovery"
   ]
  },
  {
   "cell_type": "code",
   "execution_count": null,
   "metadata": {},
   "outputs": [],
   "source": [
    "import spectral_recovery as sr\n",
    "from spectral_recovery import data"
   ]
  },
  {
   "cell_type": "code",
   "execution_count": null,
   "metadata": {},
   "outputs": [],
   "source": [
    "# 1. Read in the timeseries data and compute indices\n",
    "ts = sr.read_timeseries(\n",
    "    path_to_tifs=data.bc06_wildfire_landsat_BAP_timeseries(),\n",
    "    band_names={},\n",
    ")\n",
    "indices = sr.compute_indices(ts, indices=[\"NBR\"])"
   ]
  },
  {
   "cell_type": "code",
   "execution_count": null,
   "metadata": {},
   "outputs": [],
   "source": [
    "# 2. Define the restoration site\n",
    "#\n",
    "# Note: the data has disturbance and restoration start dates as attributes on the \n",
    "# polygon. We don't need to pass data parameters to the 'read_restoration_polygon' function\n",
    "# because these attributes are automatically read in.\n",
    "\n",
    "rest_site = sr.read_restoration_polygons(\n",
    "    path=data.bc06_wildfire_restoration_site()\n",
    ")\n",
    "# TODO: plot the rest site and index data together"
   ]
  },
  {
   "cell_type": "code",
   "execution_count": null,
   "metadata": {},
   "outputs": [],
   "source": [
    "# 3. Compute a historic median recovery target\n",
    "target = sr.targets.historic.median(\n",
    "    reference_sites=rest_site,\n",
    "    timeseries_data=indices,\n",
    "    reference_years=[2003, 2005]\n",
    ")"
   ]
  },
  {
   "cell_type": "code",
   "execution_count": null,
   "metadata": {},
   "outputs": [],
   "source": [
    "# 4. Compute R80P and Y2R recovery metrics \n",
    "metrics = sr.compute_metrics(\n",
    "    restoration_polygons=rest_site,\n",
    "    timeseries_data=indices,\n",
    "    metrics=[\"dIR\", \"R80P\", \"YrYr\", \"Y2R\"],\n",
    "    recovery_target=target, \n",
    ")"
   ]
  },
  {
   "cell_type": "code",
   "execution_count": null,
   "metadata": {},
   "outputs": [],
   "source": [
    "# TODO: plot metric outputs to show users that the data matches the paper"
   ]
  }
 ],
 "metadata": {
  "language_info": {
   "name": "python"
  }
 },
 "nbformat": 4,
 "nbformat_minor": 2
}
