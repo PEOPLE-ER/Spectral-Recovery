{
 "cells": [
  {
   "cell_type": "markdown",
   "id": "8fa3dea3-ba1e-4ac7-be80-855a1986e8c3",
   "metadata": {},
   "source": [
    "# Using the Command-line Interface (CLI)"
   ]
  },
  {
   "cell_type": "markdown",
   "id": "6cdf35b8",
   "metadata": {},
   "source": [
    "After you've installed spectral-recovery,the tool can accessed from the command-line using the `specrec` command. Try out the help command to see the different options and arguments!"
   ]
  },
  {
   "cell_type": "code",
   "execution_count": null,
   "id": "26587b0c",
   "metadata": {
    "tags": []
   },
   "outputs": [],
   "source": [
    "\n",
    "! specrec --help\n"
   ]
  },
  {
   "cell_type": "markdown",
   "id": "a8f5963b",
   "metadata": {},
   "source": [
    "\n",
    "Below is an example of how you would call the `specrec` tool to get the Y2R and the R80P recovery metrics for your restoration area:"
   ]
  },
  {
   "cell_type": "code",
   "execution_count": null,
   "id": "df9e639a",
   "metadata": {
    "tags": []
   },
   "outputs": [],
   "source": [
    "! specrec -i NDVI test_data/annual_composites/landsat/ test_data/outputs test_data/wildfire_516.gpkg Y2R"
   ]
  },
  {
   "cell_type": "markdown",
   "id": "356aec14",
   "metadata": {},
   "source": [
    "The command reads in the annual composites an--like the [Quick Overview](https://people-er.github.io/Spectral-Recovery/overview_API/)--defines a restoration polygon whose restoration event began in 2015, and a which has a historic recovery target derived from the years 2012-2013. The `-i` flags at the start of the command indicate that the recovery metrics should be computed using the NBR and NDVI indices, while the subcommands at the end (`Y2R`, `R80P`, etc.) are the choices of recovery metrics to compute for each index. \n",
    "\n",
    "Note that the band names must be added to the file's \"band descriptions\" for the CLI to properly use them.\n",
    "\n",
    "Results are written to the output directory (e.g 'test_data/outputs'), with one multi-band tif written for each metric computed. Filenames are the restpective metric, e.g 'Y2R.tif'.\n"
   ]
  },
  {
   "cell_type": "markdown",
   "id": "08214231",
   "metadata": {},
   "source": []
  }
 ],
 "metadata": {
  "kernelspec": {
   "display_name": "Python 3 (ipykernel)",
   "language": "python",
   "name": "python3"
  },
  "language_info": {
   "codemirror_mode": {
    "name": "ipython",
    "version": 3
   },
   "file_extension": ".py",
   "mimetype": "text/x-python",
   "name": "python",
   "nbconvert_exporter": "python",
   "pygments_lexer": "ipython3",
   "version": "3.10.13"
  }
 },
 "nbformat": 4,
 "nbformat_minor": 5
}
